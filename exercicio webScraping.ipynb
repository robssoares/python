{
 "cells": [
  {
   "cell_type": "code",
   "execution_count": 2,
   "metadata": {},
   "outputs": [],
   "source": [
    "from bs4 import BeautifulSoup\n",
    "\n",
    "html = \"\"\"\n",
    "    <html>\n",
    "        <body>\n",
    "            <div id=\"container-a\">\n",
    "                <h1>Título A</h1>\n",
    "                <h2 class=\"ref-a\">Sub título A</h2>\n",
    "                <p>Texto de conteúdo A</p>\n",
    "            </div>\n",
    "            <div id=\"container-b\">\n",
    "                <h1>Título B</h1>\n",
    "                <h2 class=\"ref-b\">Sub título B</h2>\n",
    "                <p>Texto de conteúdo B</p>\n",
    "            </div>\n",
    "        </body>\n",
    "    </html>\n",
    "\"\"\"\n",
    "soup = BeautifulSoup(html, 'html.parser')"
   ]
  },
  {
   "cell_type": "code",
   "execution_count": 3,
   "metadata": {},
   "outputs": [
    {
     "data": {
      "text/plain": [
       "<h2 class=\"ref-b\">Sub título B</h2>"
      ]
     },
     "execution_count": 3,
     "metadata": {},
     "output_type": "execute_result"
    }
   ],
   "source": [
    "soup.find('h2', {'class': 'ref-b'})"
   ]
  },
  {
   "cell_type": "code",
   "execution_count": 4,
   "metadata": {},
   "outputs": [
    {
     "data": {
      "text/plain": [
       "'Texto de conteúdo B'"
      ]
     },
     "execution_count": 4,
     "metadata": {},
     "output_type": "execute_result"
    }
   ],
   "source": [
    "soup.find('div',{'id': 'container-b'}).p.get_text()"
   ]
  },
  {
   "cell_type": "code",
   "execution_count": 5,
   "metadata": {},
   "outputs": [
    {
     "data": {
      "text/plain": [
       "[<h1>Título A</h1>, <h1>Título B</h1>]"
      ]
     },
     "execution_count": 5,
     "metadata": {},
     "output_type": "execute_result"
    }
   ],
   "source": [
    "soup.findAll('h1')"
   ]
  },
  {
   "cell_type": "code",
   "execution_count": null,
   "metadata": {},
   "outputs": [],
   "source": []
  },
  {
   "cell_type": "code",
   "execution_count": 6,
   "metadata": {},
   "outputs": [],
   "source": [
    "from bs4 import BeautifulSoup\n",
    "\n",
    "html = \"\"\"\n",
    "    <html>\n",
    "        <body>\n",
    "            <div id=\"container-a\">\n",
    "                <h1>Curso de Web Scraping</h1>\n",
    "                <h3>Treinamento Alura</h3>\n",
    "                <p class=\"main descr\">Curso para ensinar técnicas de coleta de dados na web.</p>\n",
    "            </div>\n",
    "            <div id=\"tools\">\n",
    "                <p class=\"main lib-a\">BeautifulSoup</p> *\n",
    "                <p class=\"libs\">findAll()</p>\n",
    "                <p class=\"libs\">getText()</p>\n",
    "                <p class=\"main lib-b\">urllib.request</p> *\n",
    "                <p class=\"libs\">urlopen()</p>\n",
    "                <p class=\"main lib-c\">pandas</p> *\n",
    "                <p class=\"libs\">DataFrame()</p>\n",
    "            </div>\n",
    "        </body>\n",
    "    </html>\n",
    "\"\"\"\n",
    "soup = BeautifulSoup(html, 'html.parser')"
   ]
  },
  {
   "cell_type": "code",
   "execution_count": 8,
   "metadata": {},
   "outputs": [
    {
     "data": {
      "text/plain": [
       "[<p class=\"main lib-a\">BeautifulSoup</p>,\n",
       " <p class=\"main lib-b\">urllib.request</p>,\n",
       " <p class=\"main lib-c\">pandas</p>]"
      ]
     },
     "execution_count": 8,
     "metadata": {},
     "output_type": "execute_result"
    }
   ],
   "source": [
    "items = soup.find(\"div\",{\"id\":\"tools\"}).findAll(\"p\",{\"class\":\"main\"})\n",
    "items"
   ]
  },
  {
   "cell_type": "code",
   "execution_count": 9,
   "metadata": {},
   "outputs": [],
   "source": [
    "items=soup.find(\"div\",{\"id\":\"tools\"}).findAll(\"p\",{\"class\":[\"lib-a\",\"lib-b\",\"lib-c\"]})"
   ]
  },
  {
   "cell_type": "code",
   "execution_count": 10,
   "metadata": {},
   "outputs": [
    {
     "data": {
      "text/plain": [
       "[<p class=\"main lib-a\">BeautifulSoup</p>,\n",
       " <p class=\"main lib-b\">urllib.request</p>,\n",
       " <p class=\"main lib-c\">pandas</p>]"
      ]
     },
     "execution_count": 10,
     "metadata": {},
     "output_type": "execute_result"
    }
   ],
   "source": [
    "items"
   ]
  },
  {
   "cell_type": "code",
   "execution_count": 11,
   "metadata": {},
   "outputs": [],
   "source": [
    "items=soup.find(\"div\",{\"id\":\"tools\"})(\"p\",{\"class\":\"main\"}) #forma reduzida, não precisou do findAll "
   ]
  },
  {
   "cell_type": "code",
   "execution_count": 12,
   "metadata": {},
   "outputs": [
    {
     "data": {
      "text/plain": [
       "[<p class=\"main lib-a\">BeautifulSoup</p>,\n",
       " <p class=\"main lib-b\">urllib.request</p>,\n",
       " <p class=\"main lib-c\">pandas</p>]"
      ]
     },
     "execution_count": 12,
     "metadata": {},
     "output_type": "execute_result"
    }
   ],
   "source": [
    "items"
   ]
  },
  {
   "cell_type": "code",
   "execution_count": null,
   "metadata": {},
   "outputs": [],
   "source": []
  },
  {
   "cell_type": "code",
   "execution_count": 13,
   "metadata": {},
   "outputs": [],
   "source": [
    "from bs4 import BeautifulSoup\n",
    "\n",
    "html = \"\"\"\n",
    "    <html>\n",
    "        <body>\n",
    "            <ul>\n",
    "                <li>Abertura</li>\n",
    "                <li>10%</li>\n",
    "                <li>11%</li>\n",
    "                <li>10.5%</li>\n",
    "                <li>9%</li>\n",
    "                <li>Fechamento</li>\n",
    "            </ul>\n",
    "        </body>\n",
    "    </html>\n",
    "\"\"\"\n",
    "soup = BeautifulSoup(html, 'html.parser')"
   ]
  },
  {
   "cell_type": "code",
   "execution_count": 14,
   "metadata": {},
   "outputs": [
    {
     "data": {
      "text/plain": [
       "[<li>10%</li>, <li>11%</li>, <li>10.5%</li>, <li>9%</li>]"
      ]
     },
     "execution_count": 14,
     "metadata": {},
     "output_type": "execute_result"
    }
   ],
   "source": [
    "valores = soup.ul(\"li\")\n",
    "valores.pop(0) #remove primeiro valor\n",
    "valores.pop() #remove ultimo valor\n",
    "valores"
   ]
  },
  {
   "cell_type": "code",
   "execution_count": null,
   "metadata": {},
   "outputs": [],
   "source": []
  },
  {
   "cell_type": "code",
   "execution_count": 15,
   "metadata": {},
   "outputs": [],
   "source": [
    "import pandas as pd\n",
    "\n",
    "card = {'value': 'R$ 1000',\n",
    " 'name': 'Fusca',\n",
    " 'motor': 'Motor 1.6',\n",
    " 'description': 'Ano 1963 - 455.286 km',\n",
    " 'location': 'Belo Horizonte - MG',\n",
    " 'items': ['Rádio', 'Buzina']}"
   ]
  },
  {
   "cell_type": "code",
   "execution_count": 16,
   "metadata": {},
   "outputs": [
    {
     "data": {
      "text/html": [
       "<div>\n",
       "<style scoped>\n",
       "    .dataframe tbody tr th:only-of-type {\n",
       "        vertical-align: middle;\n",
       "    }\n",
       "\n",
       "    .dataframe tbody tr th {\n",
       "        vertical-align: top;\n",
       "    }\n",
       "\n",
       "    .dataframe thead th {\n",
       "        text-align: right;\n",
       "    }\n",
       "</style>\n",
       "<table border=\"1\" class=\"dataframe\">\n",
       "  <thead>\n",
       "    <tr style=\"text-align: right;\">\n",
       "      <th></th>\n",
       "      <th>value</th>\n",
       "      <th>name</th>\n",
       "      <th>motor</th>\n",
       "      <th>description</th>\n",
       "      <th>location</th>\n",
       "      <th>items</th>\n",
       "    </tr>\n",
       "  </thead>\n",
       "  <tbody>\n",
       "    <tr>\n",
       "      <th>0</th>\n",
       "      <td>R$ 1000</td>\n",
       "      <td>Fusca</td>\n",
       "      <td>Motor 1.6</td>\n",
       "      <td>Ano 1963 - 455.286 km</td>\n",
       "      <td>Belo Horizonte - MG</td>\n",
       "      <td>[Rádio, Buzina]</td>\n",
       "    </tr>\n",
       "  </tbody>\n",
       "</table>\n",
       "</div>"
      ],
      "text/plain": [
       "     value   name      motor            description             location  \\\n",
       "0  R$ 1000  Fusca  Motor 1.6  Ano 1963 - 455.286 km  Belo Horizonte - MG   \n",
       "\n",
       "             items  \n",
       "0  [Rádio, Buzina]  "
      ]
     },
     "execution_count": 16,
     "metadata": {},
     "output_type": "execute_result"
    }
   ],
   "source": [
    "pd.DataFrame.from_dict(card, orient=\"index\").T"
   ]
  },
  {
   "cell_type": "code",
   "execution_count": null,
   "metadata": {},
   "outputs": [],
   "source": []
  },
  {
   "cell_type": "code",
   "execution_count": 17,
   "metadata": {},
   "outputs": [],
   "source": [
    "from bs4 import BeautifulSoup\n",
    "\n",
    "html = \"\"\"\n",
    "    <html>\n",
    "        <body>\n",
    "            <h1>Fotos</h1>\n",
    "            <div>\n",
    "                <img alt=\"Foto\" src=\"https://caelum-online-public.s3.amazonaws.com/1381-scraping/01/img-cars/mercedes-benz-slr/mercedes-benz-slr-2925433__340.jpg\">\n",
    "                <img alt=\"Foto\" src=\"https://caelum-online-public.s3.amazonaws.com/1381-scraping/01/img-cars/vwbeetle/vwbeetle-836065__340.jpg\">\n",
    "                <img alt=\"Foto\" src=\"https://caelum-online-public.s3.amazonaws.com/1381-scraping/01/img-cars/porsche-911-gt2rs/porsche-911-gt2rs-3076518__340.jpg\">\n",
    "            </div>\n",
    "        </body>\n",
    "    </html>\n",
    "\"\"\"\n",
    "soup = BeautifulSoup(html, 'html.parser')"
   ]
  },
  {
   "cell_type": "code",
   "execution_count": 20,
   "metadata": {},
   "outputs": [
    {
     "data": {
      "text/plain": [
       "[<img alt=\"Foto\" src=\"https://caelum-online-public.s3.amazonaws.com/1381-scraping/01/img-cars/mercedes-benz-slr/mercedes-benz-slr-2925433__340.jpg\"/>,\n",
       " <img alt=\"Foto\" src=\"https://caelum-online-public.s3.amazonaws.com/1381-scraping/01/img-cars/vwbeetle/vwbeetle-836065__340.jpg\"/>,\n",
       " <img alt=\"Foto\" src=\"https://caelum-online-public.s3.amazonaws.com/1381-scraping/01/img-cars/porsche-911-gt2rs/porsche-911-gt2rs-3076518__340.jpg\"/>]"
      ]
     },
     "execution_count": 20,
     "metadata": {},
     "output_type": "execute_result"
    }
   ],
   "source": [
    "soup(\"img\")"
   ]
  },
  {
   "cell_type": "code",
   "execution_count": null,
   "metadata": {},
   "outputs": [],
   "source": []
  },
  {
   "cell_type": "code",
   "execution_count": 23,
   "metadata": {},
   "outputs": [],
   "source": [
    "from bs4 import BeautifulSoup\n",
    "\n",
    "html = \"\"\"\n",
    "    <html>\n",
    "        <body>\n",
    "            <h1>Busca por veículos</h1>\n",
    "            <div>\n",
    "                <p id=\"info-search\">Encontramos 1325 anúncios</p>\n",
    "                <span class=\"info-pages\">20 anúncios por página</span>\n",
    "            </div>\n",
    "        </body>\n",
    "    </html>\n",
    "\"\"\"\n",
    "soup = BeautifulSoup(html, 'html.parser')"
   ]
  },
  {
   "cell_type": "code",
   "execution_count": 25,
   "metadata": {},
   "outputs": [
    {
     "data": {
      "text/plain": [
       "16"
      ]
     },
     "execution_count": 25,
     "metadata": {},
     "output_type": "execute_result"
    }
   ],
   "source": [
    "# Round a number upward to its nearest integer\n",
    "import math\n",
    "math.ceil(15.12)"
   ]
  },
  {
   "cell_type": "code",
   "execution_count": 26,
   "metadata": {},
   "outputs": [
    {
     "data": {
      "text/plain": [
       "18"
      ]
     },
     "execution_count": 26,
     "metadata": {},
     "output_type": "execute_result"
    }
   ],
   "source": [
    "#Rounds a number down to the nearest integer\n",
    "math.floor(18.55)"
   ]
  },
  {
   "cell_type": "code",
   "execution_count": 44,
   "metadata": {},
   "outputs": [
    {
     "data": {
      "text/plain": [
       "1325"
      ]
     },
     "execution_count": 44,
     "metadata": {},
     "output_type": "execute_result"
    }
   ],
   "source": [
    "total = int(soup.find(id=\"info-search\").getText().split()[1])\n",
    "total"
   ]
  },
  {
   "cell_type": "code",
   "execution_count": 48,
   "metadata": {},
   "outputs": [
    {
     "data": {
      "text/plain": [
       "20"
      ]
     },
     "execution_count": 48,
     "metadata": {},
     "output_type": "execute_result"
    }
   ],
   "source": [
    "porPagina = int(soup.find(class_=\"info-pages\").getText().split()[0])\n",
    "porPagina"
   ]
  },
  {
   "cell_type": "code",
   "execution_count": 51,
   "metadata": {},
   "outputs": [
    {
     "data": {
      "text/plain": [
       "67"
      ]
     },
     "execution_count": 51,
     "metadata": {},
     "output_type": "execute_result"
    }
   ],
   "source": [
    "totalPaginas = total / porPagina\n",
    "math.ceil(totalPaginas)"
   ]
  },
  {
   "cell_type": "code",
   "execution_count": 54,
   "metadata": {},
   "outputs": [
    {
     "data": {
      "text/plain": [
       "67"
      ]
     },
     "execution_count": 54,
     "metadata": {},
     "output_type": "execute_result"
    }
   ],
   "source": [
    "#resumindo\n",
    "math.ceil(int(soup.p.get_text().split()[1]) / int(soup.span.get_text().split()[0]))"
   ]
  },
  {
   "cell_type": "code",
   "execution_count": 55,
   "metadata": {},
   "outputs": [
    {
     "data": {
      "text/plain": [
       "range(0, 67)"
      ]
     },
     "execution_count": 55,
     "metadata": {},
     "output_type": "execute_result"
    }
   ],
   "source": [
    "range(67)"
   ]
  },
  {
   "cell_type": "code",
   "execution_count": null,
   "metadata": {},
   "outputs": [],
   "source": []
  }
 ],
 "metadata": {
  "kernelspec": {
   "display_name": "Python 3",
   "language": "python",
   "name": "python3"
  },
  "language_info": {
   "codemirror_mode": {
    "name": "ipython",
    "version": 3
   },
   "file_extension": ".py",
   "mimetype": "text/x-python",
   "name": "python",
   "nbconvert_exporter": "python",
   "pygments_lexer": "ipython3",
   "version": "3.7.1"
  }
 },
 "nbformat": 4,
 "nbformat_minor": 2
}
